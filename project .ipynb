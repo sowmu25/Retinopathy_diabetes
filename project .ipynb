{
 "cells": [
  {
   "cell_type": "markdown",
   "id": "50a8eb99",
   "metadata": {},
   "source": [
    "# 1. Import Necessary  Libraries"
   ]
  },
  {
   "cell_type": "code",
   "execution_count": 4,
   "id": "2deb1efa",
   "metadata": {},
   "outputs": [],
   "source": [
    "import pandas as pd # for data manipulation\n",
    "import numpy as np  # for scientific calculation\n",
    "from matplotlib import pyplot as plt\n",
    "import warnings     #to disable warnig masseges\n",
    "warnings.filterwarnings(\"ignore\") \n"
   ]
  },
  {
   "cell_type": "markdown",
   "id": "2a9ee018",
   "metadata": {},
   "source": [
    "# 2. Import Dataset"
   ]
  },
  {
   "cell_type": "code",
   "execution_count": 5,
   "id": "c3ae1dfd",
   "metadata": {},
   "outputs": [],
   "source": [
    "df=pd.read_csv(\"pronostico_dataset.csv\",delimiter=\";\")"
   ]
  },
  {
   "cell_type": "code",
   "execution_count": 6,
   "id": "a5cfd25e",
   "metadata": {},
   "outputs": [
    {
     "data": {
      "text/html": [
       "<div>\n",
       "<style scoped>\n",
       "    .dataframe tbody tr th:only-of-type {\n",
       "        vertical-align: middle;\n",
       "    }\n",
       "\n",
       "    .dataframe tbody tr th {\n",
       "        vertical-align: top;\n",
       "    }\n",
       "\n",
       "    .dataframe thead th {\n",
       "        text-align: right;\n",
       "    }\n",
       "</style>\n",
       "<table border=\"1\" class=\"dataframe\">\n",
       "  <thead>\n",
       "    <tr style=\"text-align: right;\">\n",
       "      <th></th>\n",
       "      <th>ID</th>\n",
       "      <th>age</th>\n",
       "      <th>systolic_bp</th>\n",
       "      <th>diastolic_bp</th>\n",
       "      <th>cholesterol</th>\n",
       "      <th>prognosis</th>\n",
       "    </tr>\n",
       "  </thead>\n",
       "  <tbody>\n",
       "    <tr>\n",
       "      <th>0</th>\n",
       "      <td>0</td>\n",
       "      <td>77.196340</td>\n",
       "      <td>85.288742</td>\n",
       "      <td>80.021878</td>\n",
       "      <td>79.957109</td>\n",
       "      <td>retinopathy</td>\n",
       "    </tr>\n",
       "    <tr>\n",
       "      <th>1</th>\n",
       "      <td>1</td>\n",
       "      <td>63.529850</td>\n",
       "      <td>99.379736</td>\n",
       "      <td>84.852361</td>\n",
       "      <td>110.382411</td>\n",
       "      <td>retinopathy</td>\n",
       "    </tr>\n",
       "    <tr>\n",
       "      <th>2</th>\n",
       "      <td>2</td>\n",
       "      <td>69.003986</td>\n",
       "      <td>111.349455</td>\n",
       "      <td>109.850616</td>\n",
       "      <td>100.828246</td>\n",
       "      <td>retinopathy</td>\n",
       "    </tr>\n",
       "    <tr>\n",
       "      <th>3</th>\n",
       "      <td>3</td>\n",
       "      <td>82.638210</td>\n",
       "      <td>95.056128</td>\n",
       "      <td>79.666851</td>\n",
       "      <td>87.066303</td>\n",
       "      <td>retinopathy</td>\n",
       "    </tr>\n",
       "    <tr>\n",
       "      <th>4</th>\n",
       "      <td>4</td>\n",
       "      <td>78.346286</td>\n",
       "      <td>109.154591</td>\n",
       "      <td>90.713220</td>\n",
       "      <td>92.511770</td>\n",
       "      <td>retinopathy</td>\n",
       "    </tr>\n",
       "    <tr>\n",
       "      <th>...</th>\n",
       "      <td>...</td>\n",
       "      <td>...</td>\n",
       "      <td>...</td>\n",
       "      <td>...</td>\n",
       "      <td>...</td>\n",
       "      <td>...</td>\n",
       "    </tr>\n",
       "    <tr>\n",
       "      <th>5995</th>\n",
       "      <td>5995</td>\n",
       "      <td>49.611850</td>\n",
       "      <td>94.857639</td>\n",
       "      <td>86.615671</td>\n",
       "      <td>107.643986</td>\n",
       "      <td>no_retinopathy</td>\n",
       "    </tr>\n",
       "    <tr>\n",
       "      <th>5996</th>\n",
       "      <td>5996</td>\n",
       "      <td>63.099686</td>\n",
       "      <td>100.039527</td>\n",
       "      <td>93.515186</td>\n",
       "      <td>104.971404</td>\n",
       "      <td>retinopathy</td>\n",
       "    </tr>\n",
       "    <tr>\n",
       "      <th>5997</th>\n",
       "      <td>5997</td>\n",
       "      <td>55.562243</td>\n",
       "      <td>98.421446</td>\n",
       "      <td>102.697875</td>\n",
       "      <td>120.875951</td>\n",
       "      <td>retinopathy</td>\n",
       "    </tr>\n",
       "    <tr>\n",
       "      <th>5998</th>\n",
       "      <td>5998</td>\n",
       "      <td>63.468956</td>\n",
       "      <td>106.809289</td>\n",
       "      <td>88.060631</td>\n",
       "      <td>106.052213</td>\n",
       "      <td>retinopathy</td>\n",
       "    </tr>\n",
       "    <tr>\n",
       "      <th>5999</th>\n",
       "      <td>5999</td>\n",
       "      <td>62.506825</td>\n",
       "      <td>96.900784</td>\n",
       "      <td>86.878033</td>\n",
       "      <td>108.625436</td>\n",
       "      <td>no_retinopathy</td>\n",
       "    </tr>\n",
       "  </tbody>\n",
       "</table>\n",
       "<p>6000 rows × 6 columns</p>\n",
       "</div>"
      ],
      "text/plain": [
       "        ID        age  systolic_bp  diastolic_bp  cholesterol       prognosis\n",
       "0        0  77.196340    85.288742     80.021878    79.957109     retinopathy\n",
       "1        1  63.529850    99.379736     84.852361   110.382411     retinopathy\n",
       "2        2  69.003986   111.349455    109.850616   100.828246     retinopathy\n",
       "3        3  82.638210    95.056128     79.666851    87.066303     retinopathy\n",
       "4        4  78.346286   109.154591     90.713220    92.511770     retinopathy\n",
       "...    ...        ...          ...           ...          ...             ...\n",
       "5995  5995  49.611850    94.857639     86.615671   107.643986  no_retinopathy\n",
       "5996  5996  63.099686   100.039527     93.515186   104.971404     retinopathy\n",
       "5997  5997  55.562243    98.421446    102.697875   120.875951     retinopathy\n",
       "5998  5998  63.468956   106.809289     88.060631   106.052213     retinopathy\n",
       "5999  5999  62.506825    96.900784     86.878033   108.625436  no_retinopathy\n",
       "\n",
       "[6000 rows x 6 columns]"
      ]
     },
     "execution_count": 6,
     "metadata": {},
     "output_type": "execute_result"
    }
   ],
   "source": [
    "df"
   ]
  },
  {
   "cell_type": "markdown",
   "id": "0f760dee",
   "metadata": {},
   "source": [
    "# 3.  Exploratory Data Analysis(EDA)"
   ]
  },
  {
   "cell_type": "code",
   "execution_count": 7,
   "id": "665767ae",
   "metadata": {},
   "outputs": [
    {
     "data": {
      "text/html": [
       "<div>\n",
       "<style scoped>\n",
       "    .dataframe tbody tr th:only-of-type {\n",
       "        vertical-align: middle;\n",
       "    }\n",
       "\n",
       "    .dataframe tbody tr th {\n",
       "        vertical-align: top;\n",
       "    }\n",
       "\n",
       "    .dataframe thead th {\n",
       "        text-align: right;\n",
       "    }\n",
       "</style>\n",
       "<table border=\"1\" class=\"dataframe\">\n",
       "  <thead>\n",
       "    <tr style=\"text-align: right;\">\n",
       "      <th></th>\n",
       "      <th>ID</th>\n",
       "      <th>age</th>\n",
       "      <th>systolic_bp</th>\n",
       "      <th>diastolic_bp</th>\n",
       "      <th>cholesterol</th>\n",
       "      <th>prognosis</th>\n",
       "    </tr>\n",
       "  </thead>\n",
       "  <tbody>\n",
       "    <tr>\n",
       "      <th>0</th>\n",
       "      <td>0</td>\n",
       "      <td>77.196340</td>\n",
       "      <td>85.288742</td>\n",
       "      <td>80.021878</td>\n",
       "      <td>79.957109</td>\n",
       "      <td>retinopathy</td>\n",
       "    </tr>\n",
       "    <tr>\n",
       "      <th>1</th>\n",
       "      <td>1</td>\n",
       "      <td>63.529850</td>\n",
       "      <td>99.379736</td>\n",
       "      <td>84.852361</td>\n",
       "      <td>110.382411</td>\n",
       "      <td>retinopathy</td>\n",
       "    </tr>\n",
       "    <tr>\n",
       "      <th>2</th>\n",
       "      <td>2</td>\n",
       "      <td>69.003986</td>\n",
       "      <td>111.349455</td>\n",
       "      <td>109.850616</td>\n",
       "      <td>100.828246</td>\n",
       "      <td>retinopathy</td>\n",
       "    </tr>\n",
       "    <tr>\n",
       "      <th>3</th>\n",
       "      <td>3</td>\n",
       "      <td>82.638210</td>\n",
       "      <td>95.056128</td>\n",
       "      <td>79.666851</td>\n",
       "      <td>87.066303</td>\n",
       "      <td>retinopathy</td>\n",
       "    </tr>\n",
       "    <tr>\n",
       "      <th>4</th>\n",
       "      <td>4</td>\n",
       "      <td>78.346286</td>\n",
       "      <td>109.154591</td>\n",
       "      <td>90.713220</td>\n",
       "      <td>92.511770</td>\n",
       "      <td>retinopathy</td>\n",
       "    </tr>\n",
       "  </tbody>\n",
       "</table>\n",
       "</div>"
      ],
      "text/plain": [
       "   ID        age  systolic_bp  diastolic_bp  cholesterol    prognosis\n",
       "0   0  77.196340    85.288742     80.021878    79.957109  retinopathy\n",
       "1   1  63.529850    99.379736     84.852361   110.382411  retinopathy\n",
       "2   2  69.003986   111.349455    109.850616   100.828246  retinopathy\n",
       "3   3  82.638210    95.056128     79.666851    87.066303  retinopathy\n",
       "4   4  78.346286   109.154591     90.713220    92.511770  retinopathy"
      ]
     },
     "execution_count": 7,
     "metadata": {},
     "output_type": "execute_result"
    }
   ],
   "source": [
    "df.head()"
   ]
  },
  {
   "cell_type": "code",
   "execution_count": 8,
   "id": "f0ff58a3",
   "metadata": {},
   "outputs": [
    {
     "data": {
      "text/html": [
       "<div>\n",
       "<style scoped>\n",
       "    .dataframe tbody tr th:only-of-type {\n",
       "        vertical-align: middle;\n",
       "    }\n",
       "\n",
       "    .dataframe tbody tr th {\n",
       "        vertical-align: top;\n",
       "    }\n",
       "\n",
       "    .dataframe thead th {\n",
       "        text-align: right;\n",
       "    }\n",
       "</style>\n",
       "<table border=\"1\" class=\"dataframe\">\n",
       "  <thead>\n",
       "    <tr style=\"text-align: right;\">\n",
       "      <th></th>\n",
       "      <th>ID</th>\n",
       "      <th>age</th>\n",
       "      <th>systolic_bp</th>\n",
       "      <th>diastolic_bp</th>\n",
       "      <th>cholesterol</th>\n",
       "      <th>prognosis</th>\n",
       "    </tr>\n",
       "  </thead>\n",
       "  <tbody>\n",
       "    <tr>\n",
       "      <th>5995</th>\n",
       "      <td>5995</td>\n",
       "      <td>49.611850</td>\n",
       "      <td>94.857639</td>\n",
       "      <td>86.615671</td>\n",
       "      <td>107.643986</td>\n",
       "      <td>no_retinopathy</td>\n",
       "    </tr>\n",
       "    <tr>\n",
       "      <th>5996</th>\n",
       "      <td>5996</td>\n",
       "      <td>63.099686</td>\n",
       "      <td>100.039527</td>\n",
       "      <td>93.515186</td>\n",
       "      <td>104.971404</td>\n",
       "      <td>retinopathy</td>\n",
       "    </tr>\n",
       "    <tr>\n",
       "      <th>5997</th>\n",
       "      <td>5997</td>\n",
       "      <td>55.562243</td>\n",
       "      <td>98.421446</td>\n",
       "      <td>102.697875</td>\n",
       "      <td>120.875951</td>\n",
       "      <td>retinopathy</td>\n",
       "    </tr>\n",
       "    <tr>\n",
       "      <th>5998</th>\n",
       "      <td>5998</td>\n",
       "      <td>63.468956</td>\n",
       "      <td>106.809289</td>\n",
       "      <td>88.060631</td>\n",
       "      <td>106.052213</td>\n",
       "      <td>retinopathy</td>\n",
       "    </tr>\n",
       "    <tr>\n",
       "      <th>5999</th>\n",
       "      <td>5999</td>\n",
       "      <td>62.506825</td>\n",
       "      <td>96.900784</td>\n",
       "      <td>86.878033</td>\n",
       "      <td>108.625436</td>\n",
       "      <td>no_retinopathy</td>\n",
       "    </tr>\n",
       "  </tbody>\n",
       "</table>\n",
       "</div>"
      ],
      "text/plain": [
       "        ID        age  systolic_bp  diastolic_bp  cholesterol       prognosis\n",
       "5995  5995  49.611850    94.857639     86.615671   107.643986  no_retinopathy\n",
       "5996  5996  63.099686   100.039527     93.515186   104.971404     retinopathy\n",
       "5997  5997  55.562243    98.421446    102.697875   120.875951     retinopathy\n",
       "5998  5998  63.468956   106.809289     88.060631   106.052213     retinopathy\n",
       "5999  5999  62.506825    96.900784     86.878033   108.625436  no_retinopathy"
      ]
     },
     "execution_count": 8,
     "metadata": {},
     "output_type": "execute_result"
    }
   ],
   "source": [
    "df.tail()"
   ]
  },
  {
   "cell_type": "code",
   "execution_count": 9,
   "id": "fe4fc6d4",
   "metadata": {},
   "outputs": [
    {
     "data": {
      "text/html": [
       "<div>\n",
       "<style scoped>\n",
       "    .dataframe tbody tr th:only-of-type {\n",
       "        vertical-align: middle;\n",
       "    }\n",
       "\n",
       "    .dataframe tbody tr th {\n",
       "        vertical-align: top;\n",
       "    }\n",
       "\n",
       "    .dataframe thead th {\n",
       "        text-align: right;\n",
       "    }\n",
       "</style>\n",
       "<table border=\"1\" class=\"dataframe\">\n",
       "  <thead>\n",
       "    <tr style=\"text-align: right;\">\n",
       "      <th></th>\n",
       "      <th>ID</th>\n",
       "      <th>age</th>\n",
       "      <th>systolic_bp</th>\n",
       "      <th>diastolic_bp</th>\n",
       "      <th>cholesterol</th>\n",
       "    </tr>\n",
       "  </thead>\n",
       "  <tbody>\n",
       "    <tr>\n",
       "      <th>count</th>\n",
       "      <td>6000.000000</td>\n",
       "      <td>6000.000000</td>\n",
       "      <td>6000.000000</td>\n",
       "      <td>6000.000000</td>\n",
       "      <td>6000.000000</td>\n",
       "    </tr>\n",
       "    <tr>\n",
       "      <th>mean</th>\n",
       "      <td>2999.500000</td>\n",
       "      <td>60.464121</td>\n",
       "      <td>100.694822</td>\n",
       "      <td>90.505547</td>\n",
       "      <td>100.628255</td>\n",
       "    </tr>\n",
       "    <tr>\n",
       "      <th>std</th>\n",
       "      <td>1732.195139</td>\n",
       "      <td>8.564392</td>\n",
       "      <td>10.669267</td>\n",
       "      <td>9.648200</td>\n",
       "      <td>10.433915</td>\n",
       "    </tr>\n",
       "    <tr>\n",
       "      <th>min</th>\n",
       "      <td>0.000000</td>\n",
       "      <td>35.164761</td>\n",
       "      <td>69.675429</td>\n",
       "      <td>62.807105</td>\n",
       "      <td>69.967453</td>\n",
       "    </tr>\n",
       "    <tr>\n",
       "      <th>25%</th>\n",
       "      <td>1499.750000</td>\n",
       "      <td>54.371941</td>\n",
       "      <td>93.267420</td>\n",
       "      <td>83.641788</td>\n",
       "      <td>93.202373</td>\n",
       "    </tr>\n",
       "    <tr>\n",
       "      <th>50%</th>\n",
       "      <td>2999.500000</td>\n",
       "      <td>59.831159</td>\n",
       "      <td>100.119926</td>\n",
       "      <td>89.912429</td>\n",
       "      <td>100.060637</td>\n",
       "    </tr>\n",
       "    <tr>\n",
       "      <th>75%</th>\n",
       "      <td>4499.250000</td>\n",
       "      <td>65.809652</td>\n",
       "      <td>107.439501</td>\n",
       "      <td>96.682405</td>\n",
       "      <td>107.250829</td>\n",
       "    </tr>\n",
       "    <tr>\n",
       "      <th>max</th>\n",
       "      <td>5999.000000</td>\n",
       "      <td>103.279497</td>\n",
       "      <td>151.699660</td>\n",
       "      <td>133.456382</td>\n",
       "      <td>148.233544</td>\n",
       "    </tr>\n",
       "  </tbody>\n",
       "</table>\n",
       "</div>"
      ],
      "text/plain": [
       "                ID          age  systolic_bp  diastolic_bp  cholesterol\n",
       "count  6000.000000  6000.000000  6000.000000   6000.000000  6000.000000\n",
       "mean   2999.500000    60.464121   100.694822     90.505547   100.628255\n",
       "std    1732.195139     8.564392    10.669267      9.648200    10.433915\n",
       "min       0.000000    35.164761    69.675429     62.807105    69.967453\n",
       "25%    1499.750000    54.371941    93.267420     83.641788    93.202373\n",
       "50%    2999.500000    59.831159   100.119926     89.912429   100.060637\n",
       "75%    4499.250000    65.809652   107.439501     96.682405   107.250829\n",
       "max    5999.000000   103.279497   151.699660    133.456382   148.233544"
      ]
     },
     "execution_count": 9,
     "metadata": {},
     "output_type": "execute_result"
    }
   ],
   "source": [
    "df.describe()"
   ]
  },
  {
   "cell_type": "code",
   "execution_count": 10,
   "id": "17ff0682",
   "metadata": {},
   "outputs": [
    {
     "data": {
      "text/plain": [
       "Index(['ID', 'age', 'systolic_bp', 'diastolic_bp', 'cholesterol', 'prognosis'], dtype='object')"
      ]
     },
     "execution_count": 10,
     "metadata": {},
     "output_type": "execute_result"
    }
   ],
   "source": [
    "df.columns"
   ]
  },
  {
   "cell_type": "code",
   "execution_count": 11,
   "id": "d2a139f9",
   "metadata": {},
   "outputs": [
    {
     "data": {
      "text/plain": [
       "ID                int64\n",
       "age             float64\n",
       "systolic_bp     float64\n",
       "diastolic_bp    float64\n",
       "cholesterol     float64\n",
       "prognosis        object\n",
       "dtype: object"
      ]
     },
     "execution_count": 11,
     "metadata": {},
     "output_type": "execute_result"
    }
   ],
   "source": [
    "df.dtypes"
   ]
  },
  {
   "cell_type": "code",
   "execution_count": 12,
   "id": "99de9a46",
   "metadata": {},
   "outputs": [
    {
     "data": {
      "text/plain": [
       "ID              0\n",
       "age             0\n",
       "systolic_bp     0\n",
       "diastolic_bp    0\n",
       "cholesterol     0\n",
       "prognosis       0\n",
       "dtype: int64"
      ]
     },
     "execution_count": 12,
     "metadata": {},
     "output_type": "execute_result"
    }
   ],
   "source": [
    "df.isnull().sum()"
   ]
  },
  {
   "cell_type": "code",
   "execution_count": 13,
   "id": "76921c5d",
   "metadata": {},
   "outputs": [
    {
     "data": {
      "text/plain": [
       "0"
      ]
     },
     "execution_count": 13,
     "metadata": {},
     "output_type": "execute_result"
    }
   ],
   "source": [
    "df.duplicated().sum()"
   ]
  },
  {
   "cell_type": "code",
   "execution_count": 14,
   "id": "e6ac705d",
   "metadata": {},
   "outputs": [
    {
     "data": {
      "text/plain": [
       "ID              6000\n",
       "age             6000\n",
       "systolic_bp     6000\n",
       "diastolic_bp    6000\n",
       "cholesterol     6000\n",
       "prognosis          2\n",
       "dtype: int64"
      ]
     },
     "execution_count": 14,
     "metadata": {},
     "output_type": "execute_result"
    }
   ],
   "source": [
    "df.nunique()"
   ]
  },
  {
   "cell_type": "markdown",
   "id": "bc8cf643",
   "metadata": {},
   "source": [
    "# 4. Data prerocessing"
   ]
  },
  {
   "cell_type": "code",
   "execution_count": 15,
   "id": "2bacd002",
   "metadata": {},
   "outputs": [
    {
     "data": {
      "text/plain": [
       "retinopathy       3087\n",
       "no_retinopathy    2913\n",
       "Name: prognosis, dtype: int64"
      ]
     },
     "execution_count": 15,
     "metadata": {},
     "output_type": "execute_result"
    }
   ],
   "source": [
    "df['prognosis'].value_counts()"
   ]
  },
  {
   "cell_type": "code",
   "execution_count": 16,
   "id": "b81ae454",
   "metadata": {},
   "outputs": [],
   "source": [
    "import seaborn as sns"
   ]
  },
  {
   "cell_type": "code",
   "execution_count": 17,
   "id": "1349d260",
   "metadata": {
    "scrolled": false
   },
   "outputs": [
    {
     "data": {
      "image/png": "[encoded data removed]",
      "text/plain": [
       "<Figure size 432x288 with 1 Axes>"
      ]
     },
     "metadata": {
      "needs_background": "light"
     },
     "output_type": "display_data"
    }
   ],
   "source": [
    "sns.countplot(x=df['prognosis'],hue=None)\n",
    "plt.show()"
   ]
  },
  {
   "cell_type": "markdown",
   "id": "e1703c05",
   "metadata": {},
   "source": [
    "##  Here target column is categorical , so need to use  label encoding\n",
    "###### when ever only target column is in object datatype than for encoding ,use label encoder"
   ]
  },
  {
   "cell_type": "code",
   "execution_count": 18,
   "id": "9a5f507f",
   "metadata": {},
   "outputs": [],
   "source": [
    "from sklearn.preprocessing import LabelEncoder\n"
   ]
  },
  {
   "cell_type": "code",
   "execution_count": 19,
   "id": "17814eee",
   "metadata": {},
   "outputs": [
    {
     "data": {
      "text/html": [
       "<div>\n",
       "<style scoped>\n",
       "    .dataframe tbody tr th:only-of-type {\n",
       "        vertical-align: middle;\n",
       "    }\n",
       "\n",
       "    .dataframe tbody tr th {\n",
       "        vertical-align: top;\n",
       "    }\n",
       "\n",
       "    .dataframe thead th {\n",
       "        text-align: right;\n",
       "    }\n",
       "</style>\n",
       "<table border=\"1\" class=\"dataframe\">\n",
       "  <thead>\n",
       "    <tr style=\"text-align: right;\">\n",
       "      <th></th>\n",
       "      <th>ID</th>\n",
       "      <th>age</th>\n",
       "      <th>systolic_bp</th>\n",
       "      <th>diastolic_bp</th>\n",
       "      <th>cholesterol</th>\n",
       "      <th>prognosis</th>\n",
       "    </tr>\n",
       "  </thead>\n",
       "  <tbody>\n",
       "    <tr>\n",
       "      <th>0</th>\n",
       "      <td>0</td>\n",
       "      <td>77.196340</td>\n",
       "      <td>85.288742</td>\n",
       "      <td>80.021878</td>\n",
       "      <td>79.957109</td>\n",
       "      <td>1</td>\n",
       "    </tr>\n",
       "    <tr>\n",
       "      <th>1</th>\n",
       "      <td>1</td>\n",
       "      <td>63.529850</td>\n",
       "      <td>99.379736</td>\n",
       "      <td>84.852361</td>\n",
       "      <td>110.382411</td>\n",
       "      <td>1</td>\n",
       "    </tr>\n",
       "    <tr>\n",
       "      <th>2</th>\n",
       "      <td>2</td>\n",
       "      <td>69.003986</td>\n",
       "      <td>111.349455</td>\n",
       "      <td>109.850616</td>\n",
       "      <td>100.828246</td>\n",
       "      <td>1</td>\n",
       "    </tr>\n",
       "    <tr>\n",
       "      <th>3</th>\n",
       "      <td>3</td>\n",
       "      <td>82.638210</td>\n",
       "      <td>95.056128</td>\n",
       "      <td>79.666851</td>\n",
       "      <td>87.066303</td>\n",
       "      <td>1</td>\n",
       "    </tr>\n",
       "    <tr>\n",
       "      <th>4</th>\n",
       "      <td>4</td>\n",
       "      <td>78.346286</td>\n",
       "      <td>109.154591</td>\n",
       "      <td>90.713220</td>\n",
       "      <td>92.511770</td>\n",
       "      <td>1</td>\n",
       "    </tr>\n",
       "    <tr>\n",
       "      <th>5</th>\n",
       "      <td>5</td>\n",
       "      <td>52.181782</td>\n",
       "      <td>121.080264</td>\n",
       "      <td>110.488129</td>\n",
       "      <td>115.468279</td>\n",
       "      <td>1</td>\n",
       "    </tr>\n",
       "    <tr>\n",
       "      <th>6</th>\n",
       "      <td>6</td>\n",
       "      <td>68.722144</td>\n",
       "      <td>115.232290</td>\n",
       "      <td>92.730813</td>\n",
       "      <td>106.784960</td>\n",
       "      <td>1</td>\n",
       "    </tr>\n",
       "    <tr>\n",
       "      <th>7</th>\n",
       "      <td>7</td>\n",
       "      <td>58.716578</td>\n",
       "      <td>98.653683</td>\n",
       "      <td>94.172130</td>\n",
       "      <td>100.829654</td>\n",
       "      <td>1</td>\n",
       "    </tr>\n",
       "    <tr>\n",
       "      <th>8</th>\n",
       "      <td>8</td>\n",
       "      <td>59.121758</td>\n",
       "      <td>102.681371</td>\n",
       "      <td>96.991612</td>\n",
       "      <td>106.331045</td>\n",
       "      <td>1</td>\n",
       "    </tr>\n",
       "    <tr>\n",
       "      <th>9</th>\n",
       "      <td>9</td>\n",
       "      <td>63.624683</td>\n",
       "      <td>96.341053</td>\n",
       "      <td>80.919213</td>\n",
       "      <td>121.558605</td>\n",
       "      <td>1</td>\n",
       "    </tr>\n",
       "    <tr>\n",
       "      <th>10</th>\n",
       "      <td>10</td>\n",
       "      <td>61.247450</td>\n",
       "      <td>112.254628</td>\n",
       "      <td>81.946577</td>\n",
       "      <td>92.485287</td>\n",
       "      <td>1</td>\n",
       "    </tr>\n",
       "    <tr>\n",
       "      <th>11</th>\n",
       "      <td>11</td>\n",
       "      <td>73.854572</td>\n",
       "      <td>103.352760</td>\n",
       "      <td>100.091643</td>\n",
       "      <td>110.702497</td>\n",
       "      <td>1</td>\n",
       "    </tr>\n",
       "    <tr>\n",
       "      <th>12</th>\n",
       "      <td>12</td>\n",
       "      <td>66.890987</td>\n",
       "      <td>93.205124</td>\n",
       "      <td>85.270310</td>\n",
       "      <td>106.465128</td>\n",
       "      <td>0</td>\n",
       "    </tr>\n",
       "    <tr>\n",
       "      <th>13</th>\n",
       "      <td>13</td>\n",
       "      <td>61.052046</td>\n",
       "      <td>101.852572</td>\n",
       "      <td>87.340174</td>\n",
       "      <td>106.959558</td>\n",
       "      <td>1</td>\n",
       "    </tr>\n",
       "    <tr>\n",
       "      <th>14</th>\n",
       "      <td>14</td>\n",
       "      <td>63.927754</td>\n",
       "      <td>110.085491</td>\n",
       "      <td>89.159182</td>\n",
       "      <td>90.416716</td>\n",
       "      <td>1</td>\n",
       "    </tr>\n",
       "    <tr>\n",
       "      <th>15</th>\n",
       "      <td>15</td>\n",
       "      <td>62.929328</td>\n",
       "      <td>101.524942</td>\n",
       "      <td>95.684936</td>\n",
       "      <td>102.916473</td>\n",
       "      <td>0</td>\n",
       "    </tr>\n",
       "    <tr>\n",
       "      <th>16</th>\n",
       "      <td>16</td>\n",
       "      <td>74.275743</td>\n",
       "      <td>91.245927</td>\n",
       "      <td>78.204968</td>\n",
       "      <td>99.417104</td>\n",
       "      <td>0</td>\n",
       "    </tr>\n",
       "    <tr>\n",
       "      <th>17</th>\n",
       "      <td>17</td>\n",
       "      <td>58.267020</td>\n",
       "      <td>101.259314</td>\n",
       "      <td>86.790774</td>\n",
       "      <td>102.242965</td>\n",
       "      <td>0</td>\n",
       "    </tr>\n",
       "    <tr>\n",
       "      <th>18</th>\n",
       "      <td>18</td>\n",
       "      <td>62.744349</td>\n",
       "      <td>89.883434</td>\n",
       "      <td>80.923457</td>\n",
       "      <td>102.083878</td>\n",
       "      <td>0</td>\n",
       "    </tr>\n",
       "    <tr>\n",
       "      <th>19</th>\n",
       "      <td>19</td>\n",
       "      <td>53.108176</td>\n",
       "      <td>98.580341</td>\n",
       "      <td>93.467226</td>\n",
       "      <td>103.232066</td>\n",
       "      <td>0</td>\n",
       "    </tr>\n",
       "    <tr>\n",
       "      <th>20</th>\n",
       "      <td>20</td>\n",
       "      <td>41.663762</td>\n",
       "      <td>113.817344</td>\n",
       "      <td>116.311952</td>\n",
       "      <td>117.852312</td>\n",
       "      <td>1</td>\n",
       "    </tr>\n",
       "    <tr>\n",
       "      <th>21</th>\n",
       "      <td>21</td>\n",
       "      <td>65.872341</td>\n",
       "      <td>100.051322</td>\n",
       "      <td>85.185910</td>\n",
       "      <td>99.557694</td>\n",
       "      <td>0</td>\n",
       "    </tr>\n",
       "    <tr>\n",
       "      <th>22</th>\n",
       "      <td>22</td>\n",
       "      <td>67.886382</td>\n",
       "      <td>88.676271</td>\n",
       "      <td>97.384639</td>\n",
       "      <td>97.386189</td>\n",
       "      <td>0</td>\n",
       "    </tr>\n",
       "    <tr>\n",
       "      <th>23</th>\n",
       "      <td>23</td>\n",
       "      <td>53.964207</td>\n",
       "      <td>106.745295</td>\n",
       "      <td>86.001569</td>\n",
       "      <td>80.568508</td>\n",
       "      <td>0</td>\n",
       "    </tr>\n",
       "    <tr>\n",
       "      <th>24</th>\n",
       "      <td>24</td>\n",
       "      <td>82.979636</td>\n",
       "      <td>100.211368</td>\n",
       "      <td>86.173067</td>\n",
       "      <td>97.026684</td>\n",
       "      <td>1</td>\n",
       "    </tr>\n",
       "    <tr>\n",
       "      <th>25</th>\n",
       "      <td>25</td>\n",
       "      <td>48.743801</td>\n",
       "      <td>102.923744</td>\n",
       "      <td>90.042299</td>\n",
       "      <td>108.745672</td>\n",
       "      <td>1</td>\n",
       "    </tr>\n",
       "    <tr>\n",
       "      <th>26</th>\n",
       "      <td>26</td>\n",
       "      <td>60.393501</td>\n",
       "      <td>128.401194</td>\n",
       "      <td>85.781436</td>\n",
       "      <td>100.327671</td>\n",
       "      <td>1</td>\n",
       "    </tr>\n",
       "    <tr>\n",
       "      <th>27</th>\n",
       "      <td>27</td>\n",
       "      <td>58.416829</td>\n",
       "      <td>119.708281</td>\n",
       "      <td>95.552457</td>\n",
       "      <td>103.413662</td>\n",
       "      <td>1</td>\n",
       "    </tr>\n",
       "    <tr>\n",
       "      <th>28</th>\n",
       "      <td>28</td>\n",
       "      <td>74.687521</td>\n",
       "      <td>111.907418</td>\n",
       "      <td>83.543676</td>\n",
       "      <td>108.598674</td>\n",
       "      <td>1</td>\n",
       "    </tr>\n",
       "    <tr>\n",
       "      <th>29</th>\n",
       "      <td>29</td>\n",
       "      <td>74.013903</td>\n",
       "      <td>106.333539</td>\n",
       "      <td>87.988376</td>\n",
       "      <td>95.826518</td>\n",
       "      <td>1</td>\n",
       "    </tr>\n",
       "  </tbody>\n",
       "</table>\n",
       "</div>"
      ],
      "text/plain": [
       "    ID        age  systolic_bp  diastolic_bp  cholesterol  prognosis\n",
       "0    0  77.196340    85.288742     80.021878    79.957109          1\n",
       "1    1  63.529850    99.379736     84.852361   110.382411          1\n",
       "2    2  69.003986   111.349455    109.850616   100.828246          1\n",
       "3    3  82.638210    95.056128     79.666851    87.066303          1\n",
       "4    4  78.346286   109.154591     90.713220    92.511770          1\n",
       "5    5  52.181782   121.080264    110.488129   115.468279          1\n",
       "6    6  68.722144   115.232290     92.730813   106.784960          1\n",
       "7    7  58.716578    98.653683     94.172130   100.829654          1\n",
       "8    8  59.121758   102.681371     96.991612   106.331045          1\n",
       "9    9  63.624683    96.341053     80.919213   121.558605          1\n",
       "10  10  61.247450   112.254628     81.946577    92.485287          1\n",
       "11  11  73.854572   103.352760    100.091643   110.702497          1\n",
       "12  12  66.890987    93.205124     85.270310   106.465128          0\n",
       "13  13  61.052046   101.852572     87.340174   106.959558          1\n",
       "14  14  63.927754   110.085491     89.159182    90.416716          1\n",
       "15  15  62.929328   101.524942     95.684936   102.916473          0\n",
       "16  16  74.275743    91.245927     78.204968    99.417104          0\n",
       "17  17  58.267020   101.259314     86.790774   102.242965          0\n",
       "18  18  62.744349    89.883434     80.923457   102.083878          0\n",
       "19  19  53.108176    98.580341     93.467226   103.232066          0\n",
       "20  20  41.663762   113.817344    116.311952   117.852312          1\n",
       "21  21  65.872341   100.051322     85.185910    99.557694          0\n",
       "22  22  67.886382    88.676271     97.384639    97.386189          0\n",
       "23  23  53.964207   106.745295     86.001569    80.568508          0\n",
       "24  24  82.979636   100.211368     86.173067    97.026684          1\n",
       "25  25  48.743801   102.923744     90.042299   108.745672          1\n",
       "26  26  60.393501   128.401194     85.781436   100.327671          1\n",
       "27  27  58.416829   119.708281     95.552457   103.413662          1\n",
       "28  28  74.687521   111.907418     83.543676   108.598674          1\n",
       "29  29  74.013903   106.333539     87.988376    95.826518          1"
      ]
     },
     "execution_count": 19,
     "metadata": {},
     "output_type": "execute_result"
    }
   ],
   "source": [
    "#from sklearn.preprocessing import LabelEncoder\n",
    "le = LabelEncoder()\n",
    "df['prognosis'] = le.fit_transform(df['prognosis'])\n",
    "df.head(30)"
   ]
  },
  {
   "cell_type": "markdown",
   "id": "5e778332",
   "metadata": {},
   "source": [
    "## Check Dataset is balanced or not"
   ]
  },
  {
   "cell_type": "code",
   "execution_count": 20,
   "id": "10f1737b",
   "metadata": {},
   "outputs": [
    {
     "data": {
      "image/png": "[encoded data removed]",
      "text/plain": [
       "<Figure size 720x360 with 1 Axes>"
      ]
     },
     "metadata": {},
     "output_type": "display_data"
    }
   ],
   "source": [
    "from matplotlib import pyplot as plt\n",
    "plt.figure(figsize=(10,5))\n",
    "plt.pie(x=df['prognosis'].value_counts(), explode=[0.03,0],autopct='%10.0f%%',labels=['retinopathy','no_retinopathy'])\n",
    "plt.show()"
   ]
  },
  {
   "cell_type": "markdown",
   "id": "2666a357",
   "metadata": {},
   "source": [
    "##  ** Data is balanced **"
   ]
  },
  {
   "cell_type": "code",
   "execution_count": 21,
   "id": "3cd839a3",
   "metadata": {},
   "outputs": [],
   "source": [
    "import seaborn as sns"
   ]
  },
  {
   "cell_type": "markdown",
   "id": "4dfda94e",
   "metadata": {},
   "source": [
    "# correlation by  heatmap( to check corelation between columns)"
   ]
  },
  {
   "cell_type": "code",
   "execution_count": 22,
   "id": "ad04f740",
   "metadata": {},
   "outputs": [],
   "source": [
    "coff_matrix=df.corr().round(2)"
   ]
  },
  {
   "cell_type": "code",
   "execution_count": 23,
   "id": "563431a3",
   "metadata": {},
   "outputs": [
    {
     "data": {
      "image/png": "[encoded data removed]",
      "text/plain": [
       "<Figure size 1080x576 with 2 Axes>"
      ]
     },
     "metadata": {
      "needs_background": "light"
     },
     "output_type": "display_data"
    }
   ],
   "source": [
    "plt.figure(figsize=(15,8))\n",
    "sns.heatmap(coff_matrix,annot=True,fmt='.2g',linewidths=0.5,annot_kws={'size':25})\n",
    "plt.show()"
   ]
  },
  {
   "cell_type": "markdown",
   "id": "219c6723",
   "metadata": {},
   "source": [
    "### \" there is no corelation between columns so we will not drop any column\""
   ]
  },
  {
   "cell_type": "markdown",
   "id": "2d48aa59",
   "metadata": {},
   "source": [
    "##  Effect of each column on target "
   ]
  },
  {
   "cell_type": "code",
   "execution_count": 24,
   "id": "1ac54710",
   "metadata": {
    "scrolled": false
   },
   "outputs": [
    {
     "data": {
      "text/plain": [
       "age             0.377440\n",
       "systolic_bp     0.339842\n",
       "diastolic_bp    0.181541\n",
       "cholesterol     0.315811\n",
       "prognosis       1.000000\n",
       "Name: prognosis, dtype: float64"
      ]
     },
     "execution_count": 24,
     "metadata": {},
     "output_type": "execute_result"
    }
   ],
   "source": [
    "prcnt_of_effect=df[df.columns[1:]].corr()['prognosis'][:]\n",
    "prcnt_of_effect"
   ]
  },
  {
   "cell_type": "code",
   "execution_count": 25,
   "id": "0eec903a",
   "metadata": {},
   "outputs": [
    {
     "data": {
      "text/html": [
       "<div>\n",
       "<style scoped>\n",
       "    .dataframe tbody tr th:only-of-type {\n",
       "        vertical-align: middle;\n",
       "    }\n",
       "\n",
       "    .dataframe tbody tr th {\n",
       "        vertical-align: top;\n",
       "    }\n",
       "\n",
       "    .dataframe thead th {\n",
       "        text-align: right;\n",
       "    }\n",
       "</style>\n",
       "<table border=\"1\" class=\"dataframe\">\n",
       "  <thead>\n",
       "    <tr style=\"text-align: right;\">\n",
       "      <th></th>\n",
       "      <th>age</th>\n",
       "      <th>systolic_bp</th>\n",
       "      <th>diastolic_bp</th>\n",
       "      <th>cholesterol</th>\n",
       "    </tr>\n",
       "  </thead>\n",
       "  <tbody>\n",
       "    <tr>\n",
       "      <th>0</th>\n",
       "      <td>77.196340</td>\n",
       "      <td>85.288742</td>\n",
       "      <td>80.021878</td>\n",
       "      <td>79.957109</td>\n",
       "    </tr>\n",
       "    <tr>\n",
       "      <th>1</th>\n",
       "      <td>63.529850</td>\n",
       "      <td>99.379736</td>\n",
       "      <td>84.852361</td>\n",
       "      <td>110.382411</td>\n",
       "    </tr>\n",
       "    <tr>\n",
       "      <th>2</th>\n",
       "      <td>69.003986</td>\n",
       "      <td>111.349455</td>\n",
       "      <td>109.850616</td>\n",
       "      <td>100.828246</td>\n",
       "    </tr>\n",
       "    <tr>\n",
       "      <th>3</th>\n",
       "      <td>82.638210</td>\n",
       "      <td>95.056128</td>\n",
       "      <td>79.666851</td>\n",
       "      <td>87.066303</td>\n",
       "    </tr>\n",
       "    <tr>\n",
       "      <th>4</th>\n",
       "      <td>78.346286</td>\n",
       "      <td>109.154591</td>\n",
       "      <td>90.713220</td>\n",
       "      <td>92.511770</td>\n",
       "    </tr>\n",
       "    <tr>\n",
       "      <th>...</th>\n",
       "      <td>...</td>\n",
       "      <td>...</td>\n",
       "      <td>...</td>\n",
       "      <td>...</td>\n",
       "    </tr>\n",
       "    <tr>\n",
       "      <th>5995</th>\n",
       "      <td>49.611850</td>\n",
       "      <td>94.857639</td>\n",
       "      <td>86.615671</td>\n",
       "      <td>107.643986</td>\n",
       "    </tr>\n",
       "    <tr>\n",
       "      <th>5996</th>\n",
       "      <td>63.099686</td>\n",
       "      <td>100.039527</td>\n",
       "      <td>93.515186</td>\n",
       "      <td>104.971404</td>\n",
       "    </tr>\n",
       "    <tr>\n",
       "      <th>5997</th>\n",
       "      <td>55.562243</td>\n",
       "      <td>98.421446</td>\n",
       "      <td>102.697875</td>\n",
       "      <td>120.875951</td>\n",
       "    </tr>\n",
       "    <tr>\n",
       "      <th>5998</th>\n",
       "      <td>63.468956</td>\n",
       "      <td>106.809289</td>\n",
       "      <td>88.060631</td>\n",
       "      <td>106.052213</td>\n",
       "    </tr>\n",
       "    <tr>\n",
       "      <th>5999</th>\n",
       "      <td>62.506825</td>\n",
       "      <td>96.900784</td>\n",
       "      <td>86.878033</td>\n",
       "      <td>108.625436</td>\n",
       "    </tr>\n",
       "  </tbody>\n",
       "</table>\n",
       "<p>6000 rows × 4 columns</p>\n",
       "</div>"
      ],
      "text/plain": [
       "            age  systolic_bp  diastolic_bp  cholesterol\n",
       "0     77.196340    85.288742     80.021878    79.957109\n",
       "1     63.529850    99.379736     84.852361   110.382411\n",
       "2     69.003986   111.349455    109.850616   100.828246\n",
       "3     82.638210    95.056128     79.666851    87.066303\n",
       "4     78.346286   109.154591     90.713220    92.511770\n",
       "...         ...          ...           ...          ...\n",
       "5995  49.611850    94.857639     86.615671   107.643986\n",
       "5996  63.099686   100.039527     93.515186   104.971404\n",
       "5997  55.562243    98.421446    102.697875   120.875951\n",
       "5998  63.468956   106.809289     88.060631   106.052213\n",
       "5999  62.506825    96.900784     86.878033   108.625436\n",
       "\n",
       "[6000 rows x 4 columns]"
      ]
     },
     "execution_count": 25,
     "metadata": {},
     "output_type": "execute_result"
    }
   ],
   "source": [
    "X=df.drop(['prognosis','ID'],axis=1)\n",
    "X"
   ]
  },
  {
   "cell_type": "code",
   "execution_count": 26,
   "id": "0f7c7097",
   "metadata": {},
   "outputs": [],
   "source": [
    "from sklearn.preprocessing import StandardScaler"
   ]
  },
  {
   "cell_type": "code",
   "execution_count": 27,
   "id": "526c4580",
   "metadata": {},
   "outputs": [],
   "source": [
    "scaling=StandardScaler()\n"
   ]
  },
  {
   "cell_type": "code",
   "execution_count": 67,
   "id": "4662d81b",
   "metadata": {},
   "outputs": [],
   "source": [
    "import pickle\n",
    "pickle.dump(scaling,open('scaling.pkl','wb'))"
   ]
  },
  {
   "cell_type": "code",
   "execution_count": 28,
   "id": "f0ca931c",
   "metadata": {},
   "outputs": [
    {
     "data": {
      "text/plain": [
       "array([[ 1.95385881, -1.44408831, -1.08668383, -1.98131478],\n",
       "       [ 0.35799212, -0.12326958, -0.58598051,  0.93492889],\n",
       "       [ 0.9972193 ,  0.9987116 ,  2.00521155,  0.01916893],\n",
       "       ...,\n",
       "       [-0.57240332, -0.21309482,  1.26379482,  1.94072729],\n",
       "       [ 0.3508814 ,  0.5731393 , -0.25342752,  0.51988249],\n",
       "       [ 0.23853111, -0.35563406, -0.37600957,  0.7665241 ]])"
      ]
     },
     "execution_count": 28,
     "metadata": {},
     "output_type": "execute_result"
    }
   ],
   "source": [
    "st=scaling.fit_transform(X)\n",
    "st"
   ]
  },
  {
   "cell_type": "code",
   "execution_count": 29,
   "id": "ceb9a64a",
   "metadata": {},
   "outputs": [],
   "source": [
    "X_scaled=pd.DataFrame(st,columns=X.columns)"
   ]
  },
  {
   "cell_type": "code",
   "execution_count": 30,
   "id": "35bb4d71",
   "metadata": {},
   "outputs": [
    {
     "data": {
      "text/html": [
       "<div>\n",
       "<style scoped>\n",
       "    .dataframe tbody tr th:only-of-type {\n",
       "        vertical-align: middle;\n",
       "    }\n",
       "\n",
       "    .dataframe tbody tr th {\n",
       "        vertical-align: top;\n",
       "    }\n",
       "\n",
       "    .dataframe thead th {\n",
       "        text-align: right;\n",
       "    }\n",
       "</style>\n",
       "<table border=\"1\" class=\"dataframe\">\n",
       "  <thead>\n",
       "    <tr style=\"text-align: right;\">\n",
       "      <th></th>\n",
       "      <th>age</th>\n",
       "      <th>systolic_bp</th>\n",
       "      <th>diastolic_bp</th>\n",
       "      <th>cholesterol</th>\n",
       "    </tr>\n",
       "  </thead>\n",
       "  <tbody>\n",
       "    <tr>\n",
       "      <th>0</th>\n",
       "      <td>1.953859</td>\n",
       "      <td>-1.444088</td>\n",
       "      <td>-1.086684</td>\n",
       "      <td>-1.981315</td>\n",
       "    </tr>\n",
       "    <tr>\n",
       "      <th>1</th>\n",
       "      <td>0.357992</td>\n",
       "      <td>-0.123270</td>\n",
       "      <td>-0.585981</td>\n",
       "      <td>0.934929</td>\n",
       "    </tr>\n",
       "    <tr>\n",
       "      <th>2</th>\n",
       "      <td>0.997219</td>\n",
       "      <td>0.998712</td>\n",
       "      <td>2.005212</td>\n",
       "      <td>0.019169</td>\n",
       "    </tr>\n",
       "    <tr>\n",
       "      <th>3</th>\n",
       "      <td>2.589318</td>\n",
       "      <td>-0.528543</td>\n",
       "      <td>-1.123484</td>\n",
       "      <td>-1.299904</td>\n",
       "    </tr>\n",
       "    <tr>\n",
       "      <th>4</th>\n",
       "      <td>2.088141</td>\n",
       "      <td>0.792976</td>\n",
       "      <td>0.021526</td>\n",
       "      <td>-0.777959</td>\n",
       "    </tr>\n",
       "    <tr>\n",
       "      <th>...</th>\n",
       "      <td>...</td>\n",
       "      <td>...</td>\n",
       "      <td>...</td>\n",
       "      <td>...</td>\n",
       "    </tr>\n",
       "    <tr>\n",
       "      <th>5995</th>\n",
       "      <td>-1.267244</td>\n",
       "      <td>-0.547148</td>\n",
       "      <td>-0.403205</td>\n",
       "      <td>0.672453</td>\n",
       "    </tr>\n",
       "    <tr>\n",
       "      <th>5996</th>\n",
       "      <td>0.307761</td>\n",
       "      <td>-0.061424</td>\n",
       "      <td>0.311964</td>\n",
       "      <td>0.416288</td>\n",
       "    </tr>\n",
       "    <tr>\n",
       "      <th>5997</th>\n",
       "      <td>-0.572403</td>\n",
       "      <td>-0.213095</td>\n",
       "      <td>1.263795</td>\n",
       "      <td>1.940727</td>\n",
       "    </tr>\n",
       "    <tr>\n",
       "      <th>5998</th>\n",
       "      <td>0.350881</td>\n",
       "      <td>0.573139</td>\n",
       "      <td>-0.253428</td>\n",
       "      <td>0.519882</td>\n",
       "    </tr>\n",
       "    <tr>\n",
       "      <th>5999</th>\n",
       "      <td>0.238531</td>\n",
       "      <td>-0.355634</td>\n",
       "      <td>-0.376010</td>\n",
       "      <td>0.766524</td>\n",
       "    </tr>\n",
       "  </tbody>\n",
       "</table>\n",
       "<p>6000 rows × 4 columns</p>\n",
       "</div>"
      ],
      "text/plain": [
       "           age  systolic_bp  diastolic_bp  cholesterol\n",
       "0     1.953859    -1.444088     -1.086684    -1.981315\n",
       "1     0.357992    -0.123270     -0.585981     0.934929\n",
       "2     0.997219     0.998712      2.005212     0.019169\n",
       "3     2.589318    -0.528543     -1.123484    -1.299904\n",
       "4     2.088141     0.792976      0.021526    -0.777959\n",
       "...        ...          ...           ...          ...\n",
       "5995 -1.267244    -0.547148     -0.403205     0.672453\n",
       "5996  0.307761    -0.061424      0.311964     0.416288\n",
       "5997 -0.572403    -0.213095      1.263795     1.940727\n",
       "5998  0.350881     0.573139     -0.253428     0.519882\n",
       "5999  0.238531    -0.355634     -0.376010     0.766524\n",
       "\n",
       "[6000 rows x 4 columns]"
      ]
     },
     "execution_count": 30,
     "metadata": {},
     "output_type": "execute_result"
    }
   ],
   "source": [
    "\n",
    "X_scaled"
   ]
  },
  {
   "cell_type": "markdown",
   "id": "4c94f9ee",
   "metadata": {},
   "source": [
    "# 4. Model Building"
   ]
  },
  {
   "cell_type": "markdown",
   "id": "d8b01b37",
   "metadata": {},
   "source": [
    "### seperating input and output"
   ]
  },
  {
   "cell_type": "code",
   "execution_count": 31,
   "id": "2c4fe196",
   "metadata": {},
   "outputs": [
    {
     "data": {
      "text/html": [
       "<div>\n",
       "<style scoped>\n",
       "    .dataframe tbody tr th:only-of-type {\n",
       "        vertical-align: middle;\n",
       "    }\n",
       "\n",
       "    .dataframe tbody tr th {\n",
       "        vertical-align: top;\n",
       "    }\n",
       "\n",
       "    .dataframe thead th {\n",
       "        text-align: right;\n",
       "    }\n",
       "</style>\n",
       "<table border=\"1\" class=\"dataframe\">\n",
       "  <thead>\n",
       "    <tr style=\"text-align: right;\">\n",
       "      <th></th>\n",
       "      <th>age</th>\n",
       "      <th>systolic_bp</th>\n",
       "      <th>diastolic_bp</th>\n",
       "      <th>cholesterol</th>\n",
       "    </tr>\n",
       "  </thead>\n",
       "  <tbody>\n",
       "    <tr>\n",
       "      <th>0</th>\n",
       "      <td>1.953859</td>\n",
       "      <td>-1.444088</td>\n",
       "      <td>-1.086684</td>\n",
       "      <td>-1.981315</td>\n",
       "    </tr>\n",
       "    <tr>\n",
       "      <th>1</th>\n",
       "      <td>0.357992</td>\n",
       "      <td>-0.123270</td>\n",
       "      <td>-0.585981</td>\n",
       "      <td>0.934929</td>\n",
       "    </tr>\n",
       "    <tr>\n",
       "      <th>2</th>\n",
       "      <td>0.997219</td>\n",
       "      <td>0.998712</td>\n",
       "      <td>2.005212</td>\n",
       "      <td>0.019169</td>\n",
       "    </tr>\n",
       "    <tr>\n",
       "      <th>3</th>\n",
       "      <td>2.589318</td>\n",
       "      <td>-0.528543</td>\n",
       "      <td>-1.123484</td>\n",
       "      <td>-1.299904</td>\n",
       "    </tr>\n",
       "    <tr>\n",
       "      <th>4</th>\n",
       "      <td>2.088141</td>\n",
       "      <td>0.792976</td>\n",
       "      <td>0.021526</td>\n",
       "      <td>-0.777959</td>\n",
       "    </tr>\n",
       "    <tr>\n",
       "      <th>...</th>\n",
       "      <td>...</td>\n",
       "      <td>...</td>\n",
       "      <td>...</td>\n",
       "      <td>...</td>\n",
       "    </tr>\n",
       "    <tr>\n",
       "      <th>5995</th>\n",
       "      <td>-1.267244</td>\n",
       "      <td>-0.547148</td>\n",
       "      <td>-0.403205</td>\n",
       "      <td>0.672453</td>\n",
       "    </tr>\n",
       "    <tr>\n",
       "      <th>5996</th>\n",
       "      <td>0.307761</td>\n",
       "      <td>-0.061424</td>\n",
       "      <td>0.311964</td>\n",
       "      <td>0.416288</td>\n",
       "    </tr>\n",
       "    <tr>\n",
       "      <th>5997</th>\n",
       "      <td>-0.572403</td>\n",
       "      <td>-0.213095</td>\n",
       "      <td>1.263795</td>\n",
       "      <td>1.940727</td>\n",
       "    </tr>\n",
       "    <tr>\n",
       "      <th>5998</th>\n",
       "      <td>0.350881</td>\n",
       "      <td>0.573139</td>\n",
       "      <td>-0.253428</td>\n",
       "      <td>0.519882</td>\n",
       "    </tr>\n",
       "    <tr>\n",
       "      <th>5999</th>\n",
       "      <td>0.238531</td>\n",
       "      <td>-0.355634</td>\n",
       "      <td>-0.376010</td>\n",
       "      <td>0.766524</td>\n",
       "    </tr>\n",
       "  </tbody>\n",
       "</table>\n",
       "<p>6000 rows × 4 columns</p>\n",
       "</div>"
      ],
      "text/plain": [
       "           age  systolic_bp  diastolic_bp  cholesterol\n",
       "0     1.953859    -1.444088     -1.086684    -1.981315\n",
       "1     0.357992    -0.123270     -0.585981     0.934929\n",
       "2     0.997219     0.998712      2.005212     0.019169\n",
       "3     2.589318    -0.528543     -1.123484    -1.299904\n",
       "4     2.088141     0.792976      0.021526    -0.777959\n",
       "...        ...          ...           ...          ...\n",
       "5995 -1.267244    -0.547148     -0.403205     0.672453\n",
       "5996  0.307761    -0.061424      0.311964     0.416288\n",
       "5997 -0.572403    -0.213095      1.263795     1.940727\n",
       "5998  0.350881     0.573139     -0.253428     0.519882\n",
       "5999  0.238531    -0.355634     -0.376010     0.766524\n",
       "\n",
       "[6000 rows x 4 columns]"
      ]
     },
     "execution_count": 31,
     "metadata": {},
     "output_type": "execute_result"
    }
   ],
   "source": [
    "X_scaled"
   ]
  },
  {
   "cell_type": "code",
   "execution_count": 32,
   "id": "85c75461",
   "metadata": {},
   "outputs": [],
   "source": [
    "y=df['prognosis']"
   ]
  },
  {
   "cell_type": "code",
   "execution_count": 33,
   "id": "ba6c56c4",
   "metadata": {},
   "outputs": [
    {
     "data": {
      "text/html": [
       "<div>\n",
       "<style scoped>\n",
       "    .dataframe tbody tr th:only-of-type {\n",
       "        vertical-align: middle;\n",
       "    }\n",
       "\n",
       "    .dataframe tbody tr th {\n",
       "        vertical-align: top;\n",
       "    }\n",
       "\n",
       "    .dataframe thead th {\n",
       "        text-align: right;\n",
       "    }\n",
       "</style>\n",
       "<table border=\"1\" class=\"dataframe\">\n",
       "  <thead>\n",
       "    <tr style=\"text-align: right;\">\n",
       "      <th></th>\n",
       "      <th>prognosis</th>\n",
       "    </tr>\n",
       "  </thead>\n",
       "  <tbody>\n",
       "    <tr>\n",
       "      <th>0</th>\n",
       "      <td>1</td>\n",
       "    </tr>\n",
       "    <tr>\n",
       "      <th>1</th>\n",
       "      <td>1</td>\n",
       "    </tr>\n",
       "    <tr>\n",
       "      <th>2</th>\n",
       "      <td>1</td>\n",
       "    </tr>\n",
       "    <tr>\n",
       "      <th>3</th>\n",
       "      <td>1</td>\n",
       "    </tr>\n",
       "    <tr>\n",
       "      <th>4</th>\n",
       "      <td>1</td>\n",
       "    </tr>\n",
       "    <tr>\n",
       "      <th>...</th>\n",
       "      <td>...</td>\n",
       "    </tr>\n",
       "    <tr>\n",
       "      <th>5995</th>\n",
       "      <td>0</td>\n",
       "    </tr>\n",
       "    <tr>\n",
       "      <th>5996</th>\n",
       "      <td>1</td>\n",
       "    </tr>\n",
       "    <tr>\n",
       "      <th>5997</th>\n",
       "      <td>1</td>\n",
       "    </tr>\n",
       "    <tr>\n",
       "      <th>5998</th>\n",
       "      <td>1</td>\n",
       "    </tr>\n",
       "    <tr>\n",
       "      <th>5999</th>\n",
       "      <td>0</td>\n",
       "    </tr>\n",
       "  </tbody>\n",
       "</table>\n",
       "<p>6000 rows × 1 columns</p>\n",
       "</div>"
      ],
      "text/plain": [
       "      prognosis\n",
       "0             1\n",
       "1             1\n",
       "2             1\n",
       "3             1\n",
       "4             1\n",
       "...         ...\n",
       "5995          0\n",
       "5996          1\n",
       "5997          1\n",
       "5998          1\n",
       "5999          0\n",
       "\n",
       "[6000 rows x 1 columns]"
      ]
     },
     "execution_count": 33,
     "metadata": {},
     "output_type": "execute_result"
    }
   ],
   "source": [
    "y=pd.DataFrame(data=y)\n",
    "y"
   ]
  },
  {
   "cell_type": "code",
   "execution_count": 34,
   "id": "77102baa",
   "metadata": {},
   "outputs": [],
   "source": [
    "from sklearn.model_selection import train_test_split\n",
    "X_train,X_test,y_train,y_test=train_test_split(X_scaled,y,test_size=0.20,random_state=123,stratify=y,shuffle=True)"
   ]
  },
  {
   "cell_type": "code",
   "execution_count": 35,
   "id": "91aa1284",
   "metadata": {},
   "outputs": [
    {
     "data": {
      "text/plain": [
       "((4800, 4), (4800, 1))"
      ]
     },
     "execution_count": 35,
     "metadata": {},
     "output_type": "execute_result"
    }
   ],
   "source": [
    "X_train.shape,y_train.shape"
   ]
  },
  {
   "cell_type": "code",
   "execution_count": 36,
   "id": "435743bd",
   "metadata": {},
   "outputs": [
    {
     "data": {
      "text/plain": [
       "((1200, 4), (1200, 1))"
      ]
     },
     "execution_count": 36,
     "metadata": {},
     "output_type": "execute_result"
    }
   ],
   "source": [
    "X_test.shape,y_test.shape"
   ]
  },
  {
   "cell_type": "markdown",
   "id": "0f88a3ee",
   "metadata": {},
   "source": [
    "# Algorithm for Binary Classification\n",
    "1.logistic regression\n",
    "2.Decision Trees.\n",
    "3.Naive Bayes.\n",
    "4.Random Forest.\n",
    "5.Gradient Boosting.\n",
    "6.k-Nearest Neighbors.\n",
    "7.svm"
   ]
  },
  {
   "cell_type": "markdown",
   "id": "6a100c50",
   "metadata": {},
   "source": [
    "# 5. Model Training"
   ]
  },
  {
   "cell_type": "markdown",
   "id": "0df1ee34",
   "metadata": {},
   "source": [
    "## 5.1 Logistic_Regression"
   ]
  },
  {
   "cell_type": "code",
   "execution_count": 37,
   "id": "7c87ce14",
   "metadata": {},
   "outputs": [],
   "source": [
    "from sklearn.linear_model import LogisticRegression"
   ]
  },
  {
   "cell_type": "code",
   "execution_count": 38,
   "id": "abf1d08d",
   "metadata": {},
   "outputs": [],
   "source": [
    "model1=LogisticRegression()"
   ]
  },
  {
   "cell_type": "code",
   "execution_count": 39,
   "id": "ee845868",
   "metadata": {},
   "outputs": [
    {
     "data": {
      "text/plain": [
       "LogisticRegression()"
      ]
     },
     "execution_count": 39,
     "metadata": {},
     "output_type": "execute_result"
    }
   ],
   "source": [
    "model1.fit(X_train,y_train) #training"
   ]
  },
  {
   "cell_type": "code",
   "execution_count": 40,
   "id": "ff5f1126",
   "metadata": {},
   "outputs": [],
   "source": [
    "y_pred_train_lg=model1.predict(X_train)"
   ]
  },
  {
   "cell_type": "code",
   "execution_count": 41,
   "id": "4df7e9e3",
   "metadata": {},
   "outputs": [],
   "source": [
    "y_pred_test_lg=model1.predict(X_test) # testing\n"
   ]
  },
  {
   "cell_type": "code",
   "execution_count": 42,
   "id": "722ecf47",
   "metadata": {},
   "outputs": [
    {
     "name": "stdout",
     "output_type": "stream",
     "text": [
      "*************Testing Accuracy*************\n",
      "confusion_matrix \n",
      " [[428 155]\n",
      " [170 447]]\n",
      "*********************************************\n",
      "classification_report \n",
      "               precision    recall  f1-score   support\n",
      "\n",
      "           0       0.72      0.73      0.72       583\n",
      "           1       0.74      0.72      0.73       617\n",
      "\n",
      "    accuracy                           0.73      1200\n",
      "   macro avg       0.73      0.73      0.73      1200\n",
      "weighted avg       0.73      0.73      0.73      1200\n",
      "\n",
      "*********************************************\n",
      "Accuracy score \n",
      " 0.749375\n",
      "Accuracy score \n",
      " 0.7291666666666666\n"
     ]
    }
   ],
   "source": [
    "from sklearn.metrics import accuracy_score,confusion_matrix,classification_report\n",
    "print('*************Testing Accuracy*************')\n",
    "print('confusion_matrix \\n',confusion_matrix(y_test,y_pred_test_lg))\n",
    "print('*********************************************')\n",
    "print('classification_report \\n',classification_report(y_test,y_pred_test_lg))\n",
    "print('*********************************************')\n",
    "print(\"Accuracy score \\n\",accuracy_score(y_train,y_pred_train_lg))\n",
    "print(\"Accuracy score \\n\",accuracy_score(y_test,y_pred_test_lg))\n"
   ]
  },
  {
   "cell_type": "markdown",
   "id": "bd064755",
   "metadata": {},
   "source": [
    "## 5.2 Decision_Tree"
   ]
  },
  {
   "cell_type": "code",
   "execution_count": 43,
   "id": "ece06b8e",
   "metadata": {},
   "outputs": [],
   "source": [
    "from sklearn.tree import DecisionTreeClassifier"
   ]
  },
  {
   "cell_type": "code",
   "execution_count": 44,
   "id": "f5de98bb",
   "metadata": {},
   "outputs": [],
   "source": [
    "dt_classifier=DecisionTreeClassifier(max_depth= 5, criterion='gini')"
   ]
  },
  {
   "cell_type": "code",
   "execution_count": 45,
   "id": "75a175d2",
   "metadata": {},
   "outputs": [
    {
     "data": {
      "text/plain": [
       "DecisionTreeClassifier(max_depth=5)"
      ]
     },
     "execution_count": 45,
     "metadata": {},
     "output_type": "execute_result"
    }
   ],
   "source": [
    "dt_classifier.fit(X_train,y_train) #training"
   ]
  },
  {
   "cell_type": "markdown",
   "id": "3b2dc9c6",
   "metadata": {},
   "source": [
    "## Automated way to get hyperparameter"
   ]
  },
  {
   "cell_type": "code",
   "execution_count": 46,
   "id": "030feefe",
   "metadata": {},
   "outputs": [],
   "source": [
    "from sklearn.model_selection import GridSearchCV\n",
    "grid_search_cv=GridSearchCV(estimator=dt_classifier,param_grid={'criterion':['gini','entropy'],'max_depth':[1,2,3,4,5,10,15,20]},cv=5)"
   ]
  },
  {
   "cell_type": "code",
   "execution_count": 47,
   "id": "9fa5ca63",
   "metadata": {},
   "outputs": [
    {
     "data": {
      "text/plain": [
       "{'criterion': 'gini', 'max_depth': 5}"
      ]
     },
     "execution_count": 47,
     "metadata": {},
     "output_type": "execute_result"
    }
   ],
   "source": [
    "grid_search_cv.fit(X_train,y_train)\n",
    "grid_search_cv.best_params_"
   ]
  },
  {
   "cell_type": "code",
   "execution_count": 48,
   "id": "10f745fe",
   "metadata": {},
   "outputs": [],
   "source": [
    "y_pred_train_dt=dt_classifier.predict(X_train)"
   ]
  },
  {
   "cell_type": "code",
   "execution_count": 49,
   "id": "37dcccd4",
   "metadata": {},
   "outputs": [],
   "source": [
    "y_pred_test_dt=dt_classifier.predict(X_test) #testing"
   ]
  },
  {
   "cell_type": "code",
   "execution_count": 50,
   "id": "ba00061b",
   "metadata": {},
   "outputs": [
    {
     "name": "stdout",
     "output_type": "stream",
     "text": [
      "train_Accuracy score \n",
      " 0.76\n",
      "test_Accuracy score \n",
      " 0.7125\n",
      "*********************************************\n",
      "confusion_matrix \n",
      " [[446 137]\n",
      " [208 409]]\n",
      "*********************************************\n",
      "classification_report \n",
      "               precision    recall  f1-score   support\n",
      "\n",
      "           0       0.68      0.77      0.72       583\n",
      "           1       0.75      0.66      0.70       617\n",
      "\n",
      "    accuracy                           0.71      1200\n",
      "   macro avg       0.72      0.71      0.71      1200\n",
      "weighted avg       0.72      0.71      0.71      1200\n",
      "\n"
     ]
    }
   ],
   "source": [
    "from sklearn.metrics import accuracy_score,confusion_matrix,classification_report\n",
    "print(\"train_Accuracy score \\n\",accuracy_score(y_train,y_pred_train_dt))\n",
    "print(\"test_Accuracy score \\n\",accuracy_score(y_test,y_pred_test_dt))\n",
    "print('*********************************************')\n",
    "print('confusion_matrix \\n',confusion_matrix(y_test,y_pred_test_dt))\n",
    "print('*********************************************')\n",
    "print('classification_report \\n',classification_report(y_test,y_pred_test_dt))\n",
    "\n",
    "\n"
   ]
  },
  {
   "cell_type": "code",
   "execution_count": 51,
   "id": "84b526a1",
   "metadata": {},
   "outputs": [
    {
     "data": {
      "image/png": "[encoded data removed]",
      "text/plain": [
       "<Figure size 1368x648 with 1 Axes>"
      ]
     },
     "metadata": {
      "needs_background": "light"
     },
     "output_type": "display_data"
    }
   ],
   "source": [
    "from sklearn.tree import plot_tree\n",
    "from matplotlib import pyplot as plt\n",
    "plt.figure(figsize=(19,9))\n",
    "plot_tree(dt_classifier,filled=True,rounded=True)\n",
    "plt.show()\n"
   ]
  },
  {
   "cell_type": "markdown",
   "id": "ece749b8",
   "metadata": {},
   "source": [
    "# 5.3 Ada Boosting"
   ]
  },
  {
   "cell_type": "code",
   "execution_count": 52,
   "id": "40254d6d",
   "metadata": {},
   "outputs": [],
   "source": [
    "from sklearn.ensemble import AdaBoostClassifier\n",
    "ada_classifier=AdaBoostClassifier(base_estimator=None)"
   ]
  },
  {
   "cell_type": "code",
   "execution_count": 53,
   "id": "5b1532ef",
   "metadata": {},
   "outputs": [
    {
     "data": {
      "text/plain": [
       "AdaBoostClassifier()"
      ]
     },
     "execution_count": 53,
     "metadata": {},
     "output_type": "execute_result"
    }
   ],
   "source": [
    "ada_classifier.fit(X_train,y_train)"
   ]
  },
  {
   "cell_type": "code",
   "execution_count": 54,
   "id": "3faaea48",
   "metadata": {},
   "outputs": [],
   "source": [
    "y_train_pred_ada=ada_classifier.predict(X_train)"
   ]
  },
  {
   "cell_type": "code",
   "execution_count": 55,
   "id": "b79ae025",
   "metadata": {},
   "outputs": [],
   "source": [
    "y_test_pred_ada=ada_classifier.predict(X_test)"
   ]
  },
  {
   "cell_type": "code",
   "execution_count": 56,
   "id": "4e593ac9",
   "metadata": {},
   "outputs": [
    {
     "name": "stdout",
     "output_type": "stream",
     "text": [
      "train_Accuracy score \n",
      " 0.7583333333333333\n",
      "test_Accuracy score \n",
      " 0.7266666666666667\n",
      "*********************************************\n",
      "confusion_matrix \n",
      " [[1784  546]\n",
      " [ 614 1856]]\n",
      "*********************************************\n",
      "classification_report \n",
      "               precision    recall  f1-score   support\n",
      "\n",
      "           0       0.74      0.77      0.75      2330\n",
      "           1       0.77      0.75      0.76      2470\n",
      "\n",
      "    accuracy                           0.76      4800\n",
      "   macro avg       0.76      0.76      0.76      4800\n",
      "weighted avg       0.76      0.76      0.76      4800\n",
      "\n"
     ]
    }
   ],
   "source": [
    "from sklearn.metrics import accuracy_score,confusion_matrix,classification_report\n",
    "print(\"train_Accuracy score \\n\",accuracy_score(y_train,y_train_pred_ada))\n",
    "print(\"test_Accuracy score \\n\",accuracy_score(y_test,y_test_pred_ada))\n",
    "print('*********************************************')\n",
    "print('confusion_matrix \\n',confusion_matrix(y_train,y_train_pred_ada))\n",
    "print('*********************************************')\n",
    "print('classification_report \\n',classification_report(y_train,y_train_pred_ada))"
   ]
  },
  {
   "cell_type": "markdown",
   "id": "aae8e004",
   "metadata": {},
   "source": [
    "## 5.3 Random_forest"
   ]
  },
  {
   "cell_type": "code",
   "execution_count": 57,
   "id": "08a0c7b7",
   "metadata": {},
   "outputs": [],
   "source": [
    "from sklearn.ensemble import RandomForestClassifier\n",
    "\n",
    "\n",
    "\n"
   ]
  },
  {
   "cell_type": "code",
   "execution_count": 58,
   "id": "2e2de9a9",
   "metadata": {},
   "outputs": [
    {
     "name": "stdout",
     "output_type": "stream",
     "text": [
      "Fitting 3 folds for each of 288 candidates, totalling 864 fits\n"
     ]
    },
    {
     "data": {
      "text/plain": [
       "{'bootstrap': True,\n",
       " 'max_depth': 5,\n",
       " 'max_features': 2,\n",
       " 'min_samples_leaf': 5,\n",
       " 'min_samples_split': 10,\n",
       " 'n_estimators': 30}"
      ]
     },
     "execution_count": 58,
     "metadata": {},
     "output_type": "execute_result"
    }
   ],
   "source": [
    "param_grid = {\n",
    "    'bootstrap': [True],\n",
    "    'max_depth': [5, 9, 10, 20],\n",
    "    'max_features': [2, 3],\n",
    "    'min_samples_leaf': [3, 4, 5],\n",
    "    'min_samples_split': [8, 10, 12],\n",
    "    'n_estimators': [10, 20, 30, 100]\n",
    "}\n",
    "# Create a based model\n",
    "rf = RandomForestClassifier()\n",
    "# Instantiate the grid search model\n",
    "grid_search = GridSearchCV(estimator = rf, param_grid = param_grid, \n",
    "                          cv = 3, n_jobs = -1, verbose = 2)\n",
    "\n",
    "grid_search.fit(X_train,y_train)\n",
    "grid_search.best_params_"
   ]
  },
  {
   "cell_type": "code",
   "execution_count": 62,
   "id": "9dacce8c",
   "metadata": {},
   "outputs": [],
   "source": [
    "rf_classifier=RandomForestClassifier(n_estimators=30,max_depth=5,criterion='gini',n_jobs=-1,oob_score=True,max_samples=0.8,max_features= 2, min_samples_leaf= 5,min_samples_split= 10)"
   ]
  },
  {
   "cell_type": "code",
   "execution_count": 63,
   "id": "6e74375a",
   "metadata": {},
   "outputs": [
    {
     "data": {
      "text/plain": [
       "RandomForestClassifier(max_depth=5, max_features=2, max_samples=0.8,\n",
       "                       min_samples_leaf=5, min_samples_split=10,\n",
       "                       n_estimators=30, n_jobs=-1, oob_score=True)"
      ]
     },
     "execution_count": 63,
     "metadata": {},
     "output_type": "execute_result"
    }
   ],
   "source": [
    "rf_classifier.fit(X_train,y_train)"
   ]
  },
  {
   "cell_type": "code",
   "execution_count": 64,
   "id": "588e4baa",
   "metadata": {},
   "outputs": [],
   "source": [
    "y_pred_train_rf = rf_classifier.predict(X_train)"
   ]
  },
  {
   "cell_type": "code",
   "execution_count": 65,
   "id": "861f97ea",
   "metadata": {},
   "outputs": [],
   "source": [
    "y_pred_test_rf =rf_classifier.predict(X_test)"
   ]
  },
  {
   "cell_type": "code",
   "execution_count": 66,
   "id": "4226a854",
   "metadata": {
    "scrolled": true
   },
   "outputs": [
    {
     "name": "stdout",
     "output_type": "stream",
     "text": [
      "train_Accuracy score \n",
      " 0.7672916666666667\n",
      "test_Accuracy score \n",
      " 0.7166666666666667\n",
      "*********************************************\n",
      "confusion_matrix \n",
      " [[1773  557]\n",
      " [ 560 1910]]\n",
      "*********************************************\n",
      "classification_report \n",
      "               precision    recall  f1-score   support\n",
      "\n",
      "           0       0.76      0.76      0.76      2330\n",
      "           1       0.77      0.77      0.77      2470\n",
      "\n",
      "    accuracy                           0.77      4800\n",
      "   macro avg       0.77      0.77      0.77      4800\n",
      "weighted avg       0.77      0.77      0.77      4800\n",
      "\n"
     ]
    }
   ],
   "source": [
    "from sklearn.metrics import accuracy_score,confusion_matrix,classification_report\n",
    "print(\"train_Accuracy score \\n\",accuracy_score(y_train,y_pred_train_rf))\n",
    "print(\"test_Accuracy score \\n\",accuracy_score(y_test,y_pred_test_rf))\n",
    "print('*********************************************')\n",
    "print('confusion_matrix \\n',confusion_matrix(y_train,y_pred_train_rf))\n",
    "print('*********************************************')\n",
    "print('classification_report \\n',classification_report(y_train,y_pred_train_rf))\n"
   ]
  },
  {
   "cell_type": "code",
   "execution_count": 69,
   "id": "4bc2e749",
   "metadata": {},
   "outputs": [],
   "source": [
    "pickle.dump(rf_classifier,open('classificationmodel.pkl','wb'))"
   ]
  },
  {
   "cell_type": "code",
   "execution_count": null,
   "id": "08f41fd2",
   "metadata": {},
   "outputs": [],
   "source": []
  }
 ],
 "metadata": {
  "kernelspec": {
   "display_name": "Python 3.9.12 ('base')",
   "language": "python",
   "name": "python3"
  },
  "language_info": {
   "codemirror_mode": {
    "name": "ipython",
    "version": 3
   },
   "file_extension": ".py",
   "mimetype": "text/x-python",
   "name": "python",
   "nbconvert_exporter": "python",
   "pygments_lexer": "ipython3",
   "version": "3.9.12"
  },
  "vscode": {
   "interpreter": {
    "hash": "d0613529dcd1f9dfeee230901e7dcb183e9ce95061e45781bc5800de2f53edfd"
   }
  }
 },
 "nbformat": 4,
 "nbformat_minor": 5
}
